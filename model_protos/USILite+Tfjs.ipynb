{
  "nbformat": 4,
  "nbformat_minor": 0,
  "metadata": {
    "colab": {
      "name": "Copy of Untitled0.ipynb",
      "version": "0.3.2",
      "provenance": [],
      "collapsed_sections": []
    },
    "kernelspec": {
      "name": "python3",
      "display_name": "Python 3"
    },
    "accelerator": "GPU"
  },
  "cells": [
    {
      "metadata": {
        "id": "ooNlIh5uEv8D",
        "colab_type": "code",
        "colab": {}
      },
      "cell_type": "code",
      "source": [
        "!pip3 install --quiet sentencepiece\n",
        "import tensorflow as tf\n",
        "import tensorflow_hub as hub\n",
        "import sentencepiece as spm\n",
        "import matplotlib.pyplot as plt\n",
        "import numpy as np\n",
        "import os\n",
        "import pandas as pd\n",
        "import re\n",
        "import seaborn as sns"
      ],
      "execution_count": 0,
      "outputs": []
    },
    {
      "metadata": {
        "id": "TTP3Qx6XQzs7",
        "colab_type": "code",
        "colab": {}
      },
      "cell_type": "code",
      "source": [
        "module = hub.Module(\"https://tfhub.dev/google/universal-sentence-encoder-lite/2\")"
      ],
      "execution_count": 0,
      "outputs": []
    },
    {
      "metadata": {
        "id": "ByZw7tArRUMb",
        "colab_type": "code",
        "outputId": "c646c1e2-4656-44ec-e130-8cc4f5a276f8",
        "colab": {
          "base_uri": "https://localhost:8080/",
          "height": 50
        }
      },
      "cell_type": "code",
      "source": [
        "input_placeholder = tf.sparse_placeholder(tf.int64, shape=[None, None])\n",
        "encodings = module(\n",
        "    inputs=dict(\n",
        "        values=input_placeholder.values,\n",
        "        indices=input_placeholder.indices,\n",
        "        dense_shape=input_placeholder.dense_shape))"
      ],
      "execution_count": 0,
      "outputs": [
        {
          "output_type": "stream",
          "text": [
            "INFO:tensorflow:Saver not created because there are no variables in the graph to restore\n"
          ],
          "name": "stdout"
        },
        {
          "output_type": "stream",
          "text": [
            "I0330 19:11:19.925288 139959359092608 saver.py:1483] Saver not created because there are no variables in the graph to restore\n"
          ],
          "name": "stderr"
        }
      ]
    },
    {
      "metadata": {
        "id": "DlieSAwkRnqQ",
        "colab_type": "code",
        "outputId": "a3b1c5de-2477-47eb-c655-8b31567b5e4a",
        "colab": {
          "base_uri": "https://localhost:8080/",
          "height": 67
        }
      },
      "cell_type": "code",
      "source": [
        "with tf.Session() as sess:\n",
        "  spm_path = sess.run(module(signature=\"spm_path\"))\n",
        "\n",
        "sp = spm.SentencePieceProcessor()\n",
        "sp.Load(spm_path)\n",
        "print(\"SentencePiece model loaded at {}.\".format(spm_path))"
      ],
      "execution_count": 0,
      "outputs": [
        {
          "output_type": "stream",
          "text": [
            "INFO:tensorflow:Saver not created because there are no variables in the graph to restore\n"
          ],
          "name": "stdout"
        },
        {
          "output_type": "stream",
          "text": [
            "I0330 19:11:22.995079 139959359092608 saver.py:1483] Saver not created because there are no variables in the graph to restore\n"
          ],
          "name": "stderr"
        },
        {
          "output_type": "stream",
          "text": [
            "SentencePiece model loaded at b'/tmp/tfhub_modules/539544f0a997d91c327c23285ea00c37588d92cc/assets/universal_encoder_8k_spm.model'.\n"
          ],
          "name": "stdout"
        }
      ]
    },
    {
      "metadata": {
        "id": "3r82K9OTRrcR",
        "colab_type": "code",
        "colab": {}
      },
      "cell_type": "code",
      "source": [
        "def process_to_IDs_in_sparse_format(sp, sentences):\n",
        "  # An utility method that processes sentences with the sentence piece processor\n",
        "  # 'sp' and returns the results in tf.SparseTensor-similar format:\n",
        "  # (values, indices, dense_shape)\n",
        "  ids = [sp.EncodeAsIds(x) for x in sentences]\n",
        "  max_len = max(len(x) for x in ids)\n",
        "  dense_shape=(len(ids), max_len)\n",
        "  values=[item for sublist in ids for item in sublist]\n",
        "  indices=[[row,col] for row in range(len(ids)) for col in range(len(ids[row]))]\n",
        "  return (values, indices, dense_shape)"
      ],
      "execution_count": 0,
      "outputs": []
    },
    {
      "metadata": {
        "id": "csrIK9EuRvNf",
        "colab_type": "code",
        "outputId": "92eed762-2d89-4e88-9464-d2d86af49d77",
        "colab": {
          "base_uri": "https://localhost:8080/",
          "height": 238
        }
      },
      "cell_type": "code",
      "source": [
        "# Compute a representation for each message, showing various lengths supported.\n",
        "word = \"Elephant\"\n",
        "sentence = \"I am a sentence for which I would like to get its embedding.\"\n",
        "paragraph = (\n",
        "    \"Universal Sentence Encoder embeddings also support short paragraphs. \"\n",
        "    \"There is no hard limit on how long the paragraph is. Roughly, the longer \"\n",
        "    \"the more 'diluted' the embedding will be.\")\n",
        "messages = [word, sentence, paragraph]\n",
        "\n",
        "values, indices, dense_shape = process_to_IDs_in_sparse_format(sp, messages)\n",
        "\n",
        "# Reduce logging output.\n",
        "tf.logging.set_verbosity(tf.logging.ERROR)\n",
        "\n",
        "with tf.Session() as session:\n",
        "  session.run([tf.global_variables_initializer(), tf.tables_initializer()])\n",
        "  message_embeddings = session.run(\n",
        "      encodings,\n",
        "      feed_dict={input_placeholder.values: values,\n",
        "                input_placeholder.indices: indices,\n",
        "                input_placeholder.dense_shape: dense_shape})\n",
        "\n",
        "  for i, message_embedding in enumerate(np.array(message_embeddings).tolist()):\n",
        "    print(\"Message: {}\".format(messages[i]))\n",
        "    print(\"Embedding size: {}\".format(len(message_embedding)))\n",
        "    message_embedding_snippet = \", \".join(\n",
        "        (str(x) for x in message_embedding[:3]))\n",
        "    print(\"Embedding: [{}, ...]\\n\".format(message_embedding_snippet))"
      ],
      "execution_count": 0,
      "outputs": [
        {
          "output_type": "stream",
          "text": [
            "Message: Elephant\n",
            "Embedding size: 512\n",
            "Embedding: [0.053387489169836044, 0.05319438502192497, -0.052356038242578506, ...]\n",
            "\n",
            "Message: I am a sentence for which I would like to get its embedding.\n",
            "Embedding size: 512\n",
            "Embedding: [0.035332921892404556, -0.04714974761009216, 0.012305514886975288, ...]\n",
            "\n",
            "Message: Universal Sentence Encoder embeddings also support short paragraphs. There is no hard limit on how long the paragraph is. Roughly, the longer the more 'diluted' the embedding will be.\n",
            "Embedding size: 512\n",
            "Embedding: [-0.004081644117832184, -0.08954869955778122, 0.03737198933959007, ...]\n",
            "\n"
          ],
          "name": "stdout"
        }
      ]
    },
    {
      "metadata": {
        "id": "6G3hq_hUR3iE",
        "colab_type": "code",
        "colab": {}
      },
      "cell_type": "code",
      "source": [
        "import pandas as pd\n",
        "import numpy as np\n",
        "import tensorflow as tf\n",
        "import tensorflow_hub as hub\n",
        "import keras\n",
        "from sklearn.model_selection import train_test_split\n",
        "from keras.layers import Input,Lambda,Dense,Dropout\n",
        "from keras.models import Model\n",
        "import keras.backend as K\n",
        "#data loading \n",
        "fake = pd.read_csv(\"gossipcop_fake.csv\")\n",
        "real = pd.read_csv(\"gossipcop_real.csv\")\n",
        "fake_t = fake.title.values\n",
        "real_t = real.title.values\n",
        "X = np.concatenate([fake_t,real_t],axis=0)\n",
        "fake[\"label\"] = 0\n",
        "real[\"label\"] = 1\n",
        "fake_l = fake.label.values\n",
        "real_l = real.label.values\n",
        "Y = np.concatenate([fake_l,real_l],axis=0)"
      ],
      "execution_count": 0,
      "outputs": []
    },
    {
      "metadata": {
        "id": "jn4iCm1KSXoW",
        "colab_type": "code",
        "outputId": "505cc93a-a620-41b3-f5ec-5ba6ae3c00b4",
        "colab": {
          "base_uri": "https://localhost:8080/",
          "height": 34
        }
      },
      "cell_type": "code",
      "source": [
        "X.shape"
      ],
      "execution_count": 0,
      "outputs": [
        {
          "output_type": "execute_result",
          "data": {
            "text/plain": [
              "(22140,)"
            ]
          },
          "metadata": {
            "tags": []
          },
          "execution_count": 27
        }
      ]
    },
    {
      "metadata": {
        "id": "TZr32NdOoB0p",
        "colab_type": "code",
        "colab": {}
      },
      "cell_type": "code",
      "source": [
        ""
      ],
      "execution_count": 0,
      "outputs": []
    },
    {
      "metadata": {
        "id": "ewXTqWyNSBQb",
        "colab_type": "code",
        "colab": {}
      },
      "cell_type": "code",
      "source": [
        "for i in range(1000,20000,1000): \n",
        "  y = X[i-1000:i+1]\n",
        "  values, indices, dense_shape = process_to_IDs_in_sparse_format(sp,y)\n",
        "  with tf.Session() as session:\n",
        "    session.run([tf.global_variables_initializer(), tf.tables_initializer()])\n",
        "    message_embeddings = session.run(\n",
        "        encodings,\n",
        "        feed_dict={input_placeholder.values: values,\n",
        "                  input_placeholder.indices: indices,\n",
        "                  input_placeholder.dense_shape: dense_shape})\n",
        "  #tf.reset_default_graph()\n",
        "  if(i==1000):\n",
        "    p = message_embeddings\n",
        "  else:\n",
        "    p = np.append(p,message_embeddings,axis=0)"
      ],
      "execution_count": 0,
      "outputs": []
    },
    {
      "metadata": {
        "id": "Uw134Ga5Sb5K",
        "colab_type": "code",
        "colab": {}
      },
      "cell_type": "code",
      "source": [
        "p = np.append(p,message_embeddings)"
      ],
      "execution_count": 0,
      "outputs": []
    },
    {
      "metadata": {
        "id": "pSYxx5SXT7-0",
        "colab_type": "code",
        "colab": {}
      },
      "cell_type": "code",
      "source": [
        "p = message_embeddings"
      ],
      "execution_count": 0,
      "outputs": []
    },
    {
      "metadata": {
        "id": "5RZ8Ee60UoMr",
        "colab_type": "code",
        "colab": {}
      },
      "cell_type": "code",
      "source": [
        "p = np.append(p,p,axis=0)"
      ],
      "execution_count": 0,
      "outputs": []
    },
    {
      "metadata": {
        "id": "3qomaBj0U2vQ",
        "colab_type": "code",
        "outputId": "69759842-b83a-4a3d-801b-7ad86d38129f",
        "colab": {
          "base_uri": "https://localhost:8080/",
          "height": 34
        }
      },
      "cell_type": "code",
      "source": [
        "p.shape"
      ],
      "execution_count": 0,
      "outputs": [
        {
          "output_type": "execute_result",
          "data": {
            "text/plain": [
              "(19019, 512)"
            ]
          },
          "metadata": {
            "tags": []
          },
          "execution_count": 29
        }
      ]
    },
    {
      "metadata": {
        "id": "Z1xDSYYeVKcG",
        "colab_type": "code",
        "colab": {}
      },
      "cell_type": "code",
      "source": [
        "np.savetxt('test.out', p, delimiter=',')"
      ],
      "execution_count": 0,
      "outputs": []
    },
    {
      "metadata": {
        "id": "-pBzNmLECE7D",
        "colab_type": "code",
        "outputId": "6251001c-cff3-4682-cdc8-4805c2555392",
        "colab": {
          "base_uri": "https://localhost:8080/",
          "height": 302
        }
      },
      "cell_type": "code",
      "source": [
        "from keras.models import Sequential\n",
        "from keras.layers import Dense, Dropout\n",
        "from keras.optimizers import RMSprop\n",
        "from keras.callbacks import EarlyStopping,ModelCheckpoint\n",
        "model = Sequential()\n",
        "model.add(Dense(256, activation='relu', input_shape=(512,)))\n",
        "model.add(Dropout(0.2))\n",
        "model.add(Dense(256, activation='relu'))\n",
        "model.add(Dropout(0.2))\n",
        "model.add(Dense(1, activation='sigmoid'))\n",
        "\n",
        "model.summary()\n",
        "es = EarlyStopping(monitor='val_loss', mode='min', verbose=1, patience=50)\n",
        "mc = ModelCheckpoint('best_model.h5', monitor='val_acc', mode='max', verbose=1, save_best_only=True)"
      ],
      "execution_count": 0,
      "outputs": [
        {
          "output_type": "stream",
          "text": [
            "_________________________________________________________________\n",
            "Layer (type)                 Output Shape              Param #   \n",
            "=================================================================\n",
            "dense_22 (Dense)             (None, 256)               131328    \n",
            "_________________________________________________________________\n",
            "dropout_15 (Dropout)         (None, 256)               0         \n",
            "_________________________________________________________________\n",
            "dense_23 (Dense)             (None, 256)               65792     \n",
            "_________________________________________________________________\n",
            "dropout_16 (Dropout)         (None, 256)               0         \n",
            "_________________________________________________________________\n",
            "dense_24 (Dense)             (None, 1)                 257       \n",
            "=================================================================\n",
            "Total params: 197,377\n",
            "Trainable params: 197,377\n",
            "Non-trainable params: 0\n",
            "_________________________________________________________________\n"
          ],
          "name": "stdout"
        }
      ]
    },
    {
      "metadata": {
        "id": "sqWNed-8CkuD",
        "colab_type": "code",
        "colab": {}
      },
      "cell_type": "code",
      "source": [
        "batch_size = 128\n",
        "#num_classes = 10\n",
        "epochs = 200"
      ],
      "execution_count": 0,
      "outputs": []
    },
    {
      "metadata": {
        "id": "Gyt43BpFCwPz",
        "colab_type": "code",
        "colab": {}
      },
      "cell_type": "code",
      "source": [
        "model.compile(loss='binary_crossentropy',\n",
        "              optimizer=RMSprop(),\n",
        "              metrics=['accuracy'])"
      ],
      "execution_count": 0,
      "outputs": []
    },
    {
      "metadata": {
        "id": "Lzcc8zPgC-Xl",
        "colab_type": "code",
        "outputId": "5eb25c68-68c7-4703-87d5-d5839ef9a8e8",
        "colab": {
          "base_uri": "https://localhost:8080/",
          "height": 34
        }
      },
      "cell_type": "code",
      "source": [
        "Y_n = Y[:19019]\n",
        "Y_n.shape\n"
      ],
      "execution_count": 0,
      "outputs": [
        {
          "output_type": "execute_result",
          "data": {
            "text/plain": [
              "(19019,)"
            ]
          },
          "metadata": {
            "tags": []
          },
          "execution_count": 54
        }
      ]
    },
    {
      "metadata": {
        "id": "FJcNmljaC4Y6",
        "colab_type": "code",
        "outputId": "84f42a0e-4ace-4528-ada7-964da63ee73d",
        "colab": {
          "base_uri": "https://localhost:8080/",
          "height": 4822
        }
      },
      "cell_type": "code",
      "source": [
        "history = model.fit(p, Y_n,\n",
        "                    batch_size=batch_size,\n",
        "                    epochs=epochs,\n",
        "                    verbose=1,\n",
        "                    validation_split=0.2,callbacks=[es,mc])"
      ],
      "execution_count": 0,
      "outputs": [
        {
          "output_type": "stream",
          "text": [
            "Train on 15215 samples, validate on 3804 samples\n",
            "Epoch 1/200\n",
            "15215/15215 [==============================] - 3s 204us/step - loss: 0.5216 - acc: 0.7422 - val_loss: 0.3564 - val_acc: 0.8578\n",
            "\n",
            "Epoch 00001: val_acc improved from -inf to 0.85778, saving model to best_model.h5\n",
            "Epoch 2/200\n",
            "15215/15215 [==============================] - 1s 44us/step - loss: 0.4761 - acc: 0.7731 - val_loss: 0.2643 - val_acc: 0.9227\n",
            "\n",
            "Epoch 00002: val_acc improved from 0.85778 to 0.92271, saving model to best_model.h5\n",
            "Epoch 3/200\n",
            "15215/15215 [==============================] - 1s 44us/step - loss: 0.4522 - acc: 0.7940 - val_loss: 0.3134 - val_acc: 0.8835\n",
            "\n",
            "Epoch 00003: val_acc did not improve from 0.92271\n",
            "Epoch 4/200\n",
            "15215/15215 [==============================] - 1s 43us/step - loss: 0.4336 - acc: 0.7993 - val_loss: 0.3232 - val_acc: 0.8754\n",
            "\n",
            "Epoch 00004: val_acc did not improve from 0.92271\n",
            "Epoch 5/200\n",
            "15215/15215 [==============================] - 1s 44us/step - loss: 0.4098 - acc: 0.8154 - val_loss: 0.3050 - val_acc: 0.8856\n",
            "\n",
            "Epoch 00005: val_acc did not improve from 0.92271\n",
            "Epoch 6/200\n",
            "15215/15215 [==============================] - 1s 44us/step - loss: 0.3927 - acc: 0.8267 - val_loss: 0.4726 - val_acc: 0.7750\n",
            "\n",
            "Epoch 00006: val_acc did not improve from 0.92271\n",
            "Epoch 7/200\n",
            "15215/15215 [==============================] - 1s 43us/step - loss: 0.3753 - acc: 0.8354 - val_loss: 0.2394 - val_acc: 0.9146\n",
            "\n",
            "Epoch 00007: val_acc did not improve from 0.92271\n",
            "Epoch 8/200\n",
            "15215/15215 [==============================] - 1s 44us/step - loss: 0.3575 - acc: 0.8461 - val_loss: 0.1555 - val_acc: 0.9514\n",
            "\n",
            "Epoch 00008: val_acc improved from 0.92271 to 0.95137, saving model to best_model.h5\n",
            "Epoch 9/200\n",
            "15215/15215 [==============================] - 1s 44us/step - loss: 0.3403 - acc: 0.8530 - val_loss: 0.3529 - val_acc: 0.8483\n",
            "\n",
            "Epoch 00009: val_acc did not improve from 0.95137\n",
            "Epoch 10/200\n",
            "15215/15215 [==============================] - 1s 43us/step - loss: 0.3217 - acc: 0.8624 - val_loss: 0.3348 - val_acc: 0.8549\n",
            "\n",
            "Epoch 00010: val_acc did not improve from 0.95137\n",
            "Epoch 11/200\n",
            "15215/15215 [==============================] - 1s 44us/step - loss: 0.3041 - acc: 0.8694 - val_loss: 0.2553 - val_acc: 0.8967\n",
            "\n",
            "Epoch 00011: val_acc did not improve from 0.95137\n",
            "Epoch 12/200\n",
            "15215/15215 [==============================] - 1s 44us/step - loss: 0.2886 - acc: 0.8797 - val_loss: 0.2537 - val_acc: 0.8970\n",
            "\n",
            "Epoch 00012: val_acc did not improve from 0.95137\n",
            "Epoch 13/200\n",
            "15215/15215 [==============================] - 1s 46us/step - loss: 0.2726 - acc: 0.8904 - val_loss: 0.3360 - val_acc: 0.8586\n",
            "\n",
            "Epoch 00013: val_acc did not improve from 0.95137\n",
            "Epoch 14/200\n",
            "15215/15215 [==============================] - 1s 45us/step - loss: 0.2582 - acc: 0.8913 - val_loss: 0.2851 - val_acc: 0.8809\n",
            "\n",
            "Epoch 00014: val_acc did not improve from 0.95137\n",
            "Epoch 15/200\n",
            "15215/15215 [==============================] - 1s 44us/step - loss: 0.2450 - acc: 0.9010 - val_loss: 0.4043 - val_acc: 0.8254\n",
            "\n",
            "Epoch 00015: val_acc did not improve from 0.95137\n",
            "Epoch 16/200\n",
            "15215/15215 [==============================] - 1s 46us/step - loss: 0.2339 - acc: 0.9069 - val_loss: 0.1621 - val_acc: 0.9369\n",
            "\n",
            "Epoch 00016: val_acc did not improve from 0.95137\n",
            "Epoch 17/200\n",
            "15215/15215 [==============================] - 1s 43us/step - loss: 0.2152 - acc: 0.9113 - val_loss: 0.4869 - val_acc: 0.8031\n",
            "\n",
            "Epoch 00017: val_acc did not improve from 0.95137\n",
            "Epoch 18/200\n",
            "15215/15215 [==============================] - 1s 43us/step - loss: 0.2012 - acc: 0.9184 - val_loss: 0.3461 - val_acc: 0.8599\n",
            "\n",
            "Epoch 00018: val_acc did not improve from 0.95137\n",
            "Epoch 19/200\n",
            "15215/15215 [==============================] - 1s 44us/step - loss: 0.1926 - acc: 0.9226 - val_loss: 0.3443 - val_acc: 0.8607\n",
            "\n",
            "Epoch 00019: val_acc did not improve from 0.95137\n",
            "Epoch 20/200\n",
            "15215/15215 [==============================] - 1s 44us/step - loss: 0.1794 - acc: 0.9267 - val_loss: 0.5078 - val_acc: 0.8105\n",
            "\n",
            "Epoch 00020: val_acc did not improve from 0.95137\n",
            "Epoch 21/200\n",
            "15215/15215 [==============================] - 1s 44us/step - loss: 0.1704 - acc: 0.9297 - val_loss: 0.1204 - val_acc: 0.9579\n",
            "\n",
            "Epoch 00021: val_acc improved from 0.95137 to 0.95794, saving model to best_model.h5\n",
            "Epoch 22/200\n",
            "15215/15215 [==============================] - 1s 44us/step - loss: 0.1612 - acc: 0.9358 - val_loss: 0.2472 - val_acc: 0.9085\n",
            "\n",
            "Epoch 00022: val_acc did not improve from 0.95794\n",
            "Epoch 23/200\n",
            "15215/15215 [==============================] - 1s 44us/step - loss: 0.1557 - acc: 0.9357 - val_loss: 0.2723 - val_acc: 0.9017\n",
            "\n",
            "Epoch 00023: val_acc did not improve from 0.95794\n",
            "Epoch 24/200\n",
            "15215/15215 [==============================] - 1s 45us/step - loss: 0.1457 - acc: 0.9420 - val_loss: 0.7753 - val_acc: 0.7471\n",
            "\n",
            "Epoch 00024: val_acc did not improve from 0.95794\n",
            "Epoch 25/200\n",
            "15215/15215 [==============================] - 1s 45us/step - loss: 0.1441 - acc: 0.9438 - val_loss: 0.3909 - val_acc: 0.8546\n",
            "\n",
            "Epoch 00025: val_acc did not improve from 0.95794\n",
            "Epoch 26/200\n",
            "15215/15215 [==============================] - 1s 45us/step - loss: 0.1361 - acc: 0.9456 - val_loss: 0.3842 - val_acc: 0.8617\n",
            "\n",
            "Epoch 00026: val_acc did not improve from 0.95794\n",
            "Epoch 27/200\n",
            "15215/15215 [==============================] - 1s 44us/step - loss: 0.1303 - acc: 0.9478 - val_loss: 0.4937 - val_acc: 0.8449\n",
            "\n",
            "Epoch 00027: val_acc did not improve from 0.95794\n",
            "Epoch 28/200\n",
            "15215/15215 [==============================] - 1s 46us/step - loss: 0.1256 - acc: 0.9501 - val_loss: 0.4844 - val_acc: 0.8383\n",
            "\n",
            "Epoch 00028: val_acc did not improve from 0.95794\n",
            "Epoch 29/200\n",
            "15215/15215 [==============================] - 1s 44us/step - loss: 0.1192 - acc: 0.9536 - val_loss: 0.4769 - val_acc: 0.8454\n",
            "\n",
            "Epoch 00029: val_acc did not improve from 0.95794\n",
            "Epoch 30/200\n",
            "15215/15215 [==============================] - 1s 43us/step - loss: 0.1117 - acc: 0.9553 - val_loss: 0.3079 - val_acc: 0.9025\n",
            "\n",
            "Epoch 00030: val_acc did not improve from 0.95794\n",
            "Epoch 31/200\n",
            "15215/15215 [==============================] - 1s 44us/step - loss: 0.1093 - acc: 0.9568 - val_loss: 0.3267 - val_acc: 0.8977\n",
            "\n",
            "Epoch 00031: val_acc did not improve from 0.95794\n",
            "Epoch 32/200\n",
            "15215/15215 [==============================] - 1s 44us/step - loss: 0.1063 - acc: 0.9558 - val_loss: 0.5338 - val_acc: 0.8483\n",
            "\n",
            "Epoch 00032: val_acc did not improve from 0.95794\n",
            "Epoch 33/200\n",
            "15215/15215 [==============================] - 1s 43us/step - loss: 0.1030 - acc: 0.9604 - val_loss: 0.3843 - val_acc: 0.8793\n",
            "\n",
            "Epoch 00033: val_acc did not improve from 0.95794\n",
            "Epoch 34/200\n",
            "15215/15215 [==============================] - 1s 44us/step - loss: 0.0947 - acc: 0.9634 - val_loss: 0.3663 - val_acc: 0.8930\n",
            "\n",
            "Epoch 00034: val_acc did not improve from 0.95794\n",
            "Epoch 35/200\n",
            "15215/15215 [==============================] - 1s 43us/step - loss: 0.0980 - acc: 0.9617 - val_loss: 0.7748 - val_acc: 0.7939\n",
            "\n",
            "Epoch 00035: val_acc did not improve from 0.95794\n",
            "Epoch 36/200\n",
            "15215/15215 [==============================] - 1s 43us/step - loss: 0.0930 - acc: 0.9628 - val_loss: 0.2599 - val_acc: 0.9148\n",
            "\n",
            "Epoch 00036: val_acc did not improve from 0.95794\n",
            "Epoch 37/200\n",
            "15215/15215 [==============================] - 1s 43us/step - loss: 0.0878 - acc: 0.9663 - val_loss: 0.7241 - val_acc: 0.8078\n",
            "\n",
            "Epoch 00037: val_acc did not improve from 0.95794\n",
            "Epoch 38/200\n",
            "15215/15215 [==============================] - 1s 44us/step - loss: 0.0902 - acc: 0.9644 - val_loss: 0.6292 - val_acc: 0.8252\n",
            "\n",
            "Epoch 00038: val_acc did not improve from 0.95794\n",
            "Epoch 39/200\n",
            "15215/15215 [==============================] - 1s 45us/step - loss: 0.0872 - acc: 0.9645 - val_loss: 0.3753 - val_acc: 0.8885\n",
            "\n",
            "Epoch 00039: val_acc did not improve from 0.95794\n",
            "Epoch 40/200\n",
            "15215/15215 [==============================] - 1s 45us/step - loss: 0.0850 - acc: 0.9676 - val_loss: 0.4625 - val_acc: 0.8796\n",
            "\n",
            "Epoch 00040: val_acc did not improve from 0.95794\n",
            "Epoch 41/200\n",
            "15215/15215 [==============================] - 1s 45us/step - loss: 0.0836 - acc: 0.9681 - val_loss: 0.6291 - val_acc: 0.8339\n",
            "\n",
            "Epoch 00041: val_acc did not improve from 0.95794\n",
            "Epoch 42/200\n",
            "15215/15215 [==============================] - 1s 44us/step - loss: 0.0763 - acc: 0.9709 - val_loss: 0.6813 - val_acc: 0.8191\n",
            "\n",
            "Epoch 00042: val_acc did not improve from 0.95794\n",
            "Epoch 43/200\n",
            "15215/15215 [==============================] - 1s 44us/step - loss: 0.0718 - acc: 0.9711 - val_loss: 0.4334 - val_acc: 0.8906\n",
            "\n",
            "Epoch 00043: val_acc did not improve from 0.95794\n",
            "Epoch 44/200\n",
            "15215/15215 [==============================] - 1s 43us/step - loss: 0.0757 - acc: 0.9703 - val_loss: 0.3111 - val_acc: 0.9143\n",
            "\n",
            "Epoch 00044: val_acc did not improve from 0.95794\n",
            "Epoch 45/200\n",
            "15215/15215 [==============================] - 1s 44us/step - loss: 0.0784 - acc: 0.9692 - val_loss: 0.8404 - val_acc: 0.8047\n",
            "\n",
            "Epoch 00045: val_acc did not improve from 0.95794\n",
            "Epoch 46/200\n",
            "15215/15215 [==============================] - 1s 44us/step - loss: 0.0722 - acc: 0.9715 - val_loss: 0.6340 - val_acc: 0.8375\n",
            "\n",
            "Epoch 00046: val_acc did not improve from 0.95794\n",
            "Epoch 47/200\n",
            "15215/15215 [==============================] - 1s 42us/step - loss: 0.0738 - acc: 0.9696 - val_loss: 0.4770 - val_acc: 0.8686\n",
            "\n",
            "Epoch 00047: val_acc did not improve from 0.95794\n",
            "Epoch 48/200\n",
            "15215/15215 [==============================] - 1s 44us/step - loss: 0.0705 - acc: 0.9735 - val_loss: 0.6059 - val_acc: 0.8483\n",
            "\n",
            "Epoch 00048: val_acc did not improve from 0.95794\n",
            "Epoch 49/200\n",
            "15215/15215 [==============================] - 1s 44us/step - loss: 0.0674 - acc: 0.9737 - val_loss: 0.6007 - val_acc: 0.8638\n",
            "\n",
            "Epoch 00049: val_acc did not improve from 0.95794\n",
            "Epoch 50/200\n",
            "15215/15215 [==============================] - 1s 43us/step - loss: 0.0661 - acc: 0.9742 - val_loss: 0.6636 - val_acc: 0.8444\n",
            "\n",
            "Epoch 00050: val_acc did not improve from 0.95794\n",
            "Epoch 51/200\n",
            "15215/15215 [==============================] - 1s 45us/step - loss: 0.0628 - acc: 0.9758 - val_loss: 0.8422 - val_acc: 0.8042\n",
            "\n",
            "Epoch 00051: val_acc did not improve from 0.95794\n",
            "Epoch 52/200\n",
            "15215/15215 [==============================] - 1s 44us/step - loss: 0.0654 - acc: 0.9751 - val_loss: 0.6076 - val_acc: 0.8591\n",
            "\n",
            "Epoch 00052: val_acc did not improve from 0.95794\n",
            "Epoch 53/200\n",
            "15215/15215 [==============================] - 1s 43us/step - loss: 0.0591 - acc: 0.9791 - val_loss: 0.5279 - val_acc: 0.8749\n",
            "\n",
            "Epoch 00053: val_acc did not improve from 0.95794\n",
            "Epoch 54/200\n",
            "15215/15215 [==============================] - 1s 44us/step - loss: 0.0638 - acc: 0.9739 - val_loss: 0.3812 - val_acc: 0.9101\n",
            "\n",
            "Epoch 00054: val_acc did not improve from 0.95794\n",
            "Epoch 55/200\n",
            "15215/15215 [==============================] - 1s 43us/step - loss: 0.0642 - acc: 0.9752 - val_loss: 0.7634 - val_acc: 0.8286\n",
            "\n",
            "Epoch 00055: val_acc did not improve from 0.95794\n",
            "Epoch 56/200\n",
            "15215/15215 [==============================] - 1s 44us/step - loss: 0.0611 - acc: 0.9769 - val_loss: 0.4640 - val_acc: 0.8941\n",
            "\n",
            "Epoch 00056: val_acc did not improve from 0.95794\n",
            "Epoch 57/200\n",
            "15215/15215 [==============================] - 1s 44us/step - loss: 0.0566 - acc: 0.9775 - val_loss: 0.5105 - val_acc: 0.8925\n",
            "\n",
            "Epoch 00057: val_acc did not improve from 0.95794\n",
            "Epoch 58/200\n",
            "15215/15215 [==============================] - 1s 43us/step - loss: 0.0547 - acc: 0.9781 - val_loss: 0.4850 - val_acc: 0.8888\n",
            "\n",
            "Epoch 00058: val_acc did not improve from 0.95794\n",
            "Epoch 59/200\n",
            "15215/15215 [==============================] - 1s 44us/step - loss: 0.0611 - acc: 0.9768 - val_loss: 0.4963 - val_acc: 0.8854\n",
            "\n",
            "Epoch 00059: val_acc did not improve from 0.95794\n",
            "Epoch 60/200\n",
            "15215/15215 [==============================] - 1s 44us/step - loss: 0.0568 - acc: 0.9761 - val_loss: 0.8785 - val_acc: 0.8144\n",
            "\n",
            "Epoch 00060: val_acc did not improve from 0.95794\n",
            "Epoch 61/200\n",
            "15215/15215 [==============================] - 1s 43us/step - loss: 0.0545 - acc: 0.9782 - val_loss: 0.5870 - val_acc: 0.8630\n",
            "\n",
            "Epoch 00061: val_acc did not improve from 0.95794\n",
            "Epoch 62/200\n",
            "15215/15215 [==============================] - 1s 43us/step - loss: 0.0566 - acc: 0.9776 - val_loss: 0.6014 - val_acc: 0.8678\n",
            "\n",
            "Epoch 00062: val_acc did not improve from 0.95794\n",
            "Epoch 63/200\n",
            "15215/15215 [==============================] - 1s 44us/step - loss: 0.0576 - acc: 0.9773 - val_loss: 0.6101 - val_acc: 0.8638\n",
            "\n",
            "Epoch 00063: val_acc did not improve from 0.95794\n",
            "Epoch 64/200\n",
            "15215/15215 [==============================] - 1s 44us/step - loss: 0.0498 - acc: 0.9800 - val_loss: 0.6573 - val_acc: 0.8565\n",
            "\n",
            "Epoch 00064: val_acc did not improve from 0.95794\n",
            "Epoch 65/200\n",
            "15215/15215 [==============================] - 1s 45us/step - loss: 0.0504 - acc: 0.9808 - val_loss: 0.6993 - val_acc: 0.8525\n",
            "\n",
            "Epoch 00065: val_acc did not improve from 0.95794\n",
            "Epoch 66/200\n",
            "15215/15215 [==============================] - 1s 45us/step - loss: 0.0523 - acc: 0.9807 - val_loss: 0.6332 - val_acc: 0.8680\n",
            "\n",
            "Epoch 00066: val_acc did not improve from 0.95794\n",
            "Epoch 67/200\n",
            "15215/15215 [==============================] - 1s 43us/step - loss: 0.0547 - acc: 0.9782 - val_loss: 0.8768 - val_acc: 0.8325\n",
            "\n",
            "Epoch 00067: val_acc did not improve from 0.95794\n",
            "Epoch 68/200\n",
            "15215/15215 [==============================] - 1s 44us/step - loss: 0.0530 - acc: 0.9789 - val_loss: 0.5290 - val_acc: 0.8901\n",
            "\n",
            "Epoch 00068: val_acc did not improve from 0.95794\n",
            "Epoch 69/200\n",
            "15215/15215 [==============================] - 1s 44us/step - loss: 0.0509 - acc: 0.9795 - val_loss: 0.7326 - val_acc: 0.8473\n",
            "\n",
            "Epoch 00069: val_acc did not improve from 0.95794\n",
            "Epoch 70/200\n",
            "15215/15215 [==============================] - 1s 43us/step - loss: 0.0486 - acc: 0.9803 - val_loss: 0.7174 - val_acc: 0.8570\n",
            "\n",
            "Epoch 00070: val_acc did not improve from 0.95794\n",
            "Epoch 71/200\n",
            "15215/15215 [==============================] - 1s 44us/step - loss: 0.0494 - acc: 0.9803 - val_loss: 0.4542 - val_acc: 0.9030\n",
            "\n",
            "Epoch 00071: val_acc did not improve from 0.95794\n",
            "Epoch 00071: early stopping\n"
          ],
          "name": "stdout"
        }
      ]
    },
    {
      "metadata": {
        "id": "bE1r_RTMDScI",
        "colab_type": "code",
        "outputId": "cb0a243b-c860-407d-94c6-bf971114708a",
        "colab": {
          "base_uri": "https://localhost:8080/",
          "height": 347
        }
      },
      "cell_type": "code",
      "source": [
        "from matplotlib import pyplot\n",
        "pyplot.plot(history.history['acc'], label='train')\n",
        "pyplot.plot(history.history['val_acc'], label='test')\n",
        "pyplot.legend()\n",
        "pyplot.show()"
      ],
      "execution_count": 0,
      "outputs": [
        {
          "output_type": "display_data",
          "data": {
            "image/png": "[encoded data removed]",
            "text/plain": [
              "<Figure size 576x396 with 1 Axes>"
            ]
          },
          "metadata": {
            "tags": []
          }
        }
      ]
    },
    {
      "metadata": {
        "id": "hyCzI5i0JdL_",
        "colab_type": "code",
        "colab": {}
      },
      "cell_type": "code",
      "source": [
        ""
      ],
      "execution_count": 0,
      "outputs": []
    }
  ]
}