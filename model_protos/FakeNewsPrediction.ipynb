{
 "cells": [
  {
   "cell_type": "markdown",
   "metadata": {},
   "source": [
    "# Importing Libraries"
   ]
  },
  {
   "cell_type": "code",
   "execution_count": 56,
   "metadata": {},
   "outputs": [],
   "source": [
    "import lightgbm as lgb\n",
    "from xgboost import XGBClassifier\n",
    "import sklearn\n",
    "import keras\n",
    "import tensorflow as tf\n",
    "from scipy.sparse import hstack\n",
    "import gensim\n",
    "import pandas as pd\n",
    "import numpy as np\n",
    "from sklearn.linear_model import LogisticRegression\n",
    "from sklearn.ensemble import RandomForestClassifier,VotingClassifier\n",
    "from keras.preprocessing.text import Tokenizer\n",
    "from keras.preprocessing.sequence import pad_sequences\n",
    "from keras.models import Sequential\n",
    "from keras.layers import Dense, Flatten, LSTM, Conv1D, GlobalMaxPooling1D, Dropout, Activation\n",
    "from keras.layers.embeddings import Embedding\n",
    "from keras.preprocessing import sequence\n",
    "from keras.callbacks import EarlyStopping\n",
    "from sklearn.model_selection import train_test_split\n",
    "from sklearn.feature_extraction.text import CountVectorizer,TfidfVectorizer\n",
    "from sklearn.metrics import f1_score,classification_report,accuracy_score"
   ]
  },
  {
   "cell_type": "markdown",
   "metadata": {},
   "source": [
    "# Data Loding and Manipulation"
   ]
  },
  {
   "cell_type": "code",
   "execution_count": 4,
   "metadata": {},
   "outputs": [],
   "source": [
    "fake = pd.read_csv(\"fake_data.csv\")\n",
    "real = pd.read_csv(\"real_data.csv\")\n",
    "fake[\"label\"] = 0\n",
    "real[\"label\"] = 1"
   ]
  },
  {
   "cell_type": "code",
   "execution_count": 5,
   "metadata": {},
   "outputs": [],
   "source": [
    "posts = pd.concat([fake,real])"
   ]
  },
  {
   "cell_type": "code",
   "execution_count": 6,
   "metadata": {},
   "outputs": [
    {
     "data": {
      "text/html": [
       "<div>\n",
       "<style scoped>\n",
       "    .dataframe tbody tr th:only-of-type {\n",
       "        vertical-align: middle;\n",
       "    }\n",
       "\n",
       "    .dataframe tbody tr th {\n",
       "        vertical-align: top;\n",
       "    }\n",
       "\n",
       "    .dataframe thead th {\n",
       "        text-align: right;\n",
       "    }\n",
       "</style>\n",
       "<table border=\"1\" class=\"dataframe\">\n",
       "  <thead>\n",
       "    <tr style=\"text-align: right;\">\n",
       "      <th></th>\n",
       "      <th>news_url</th>\n",
       "      <th>title</th>\n",
       "      <th>label</th>\n",
       "    </tr>\n",
       "  </thead>\n",
       "  <tbody>\n",
       "    <tr>\n",
       "      <th>0</th>\n",
       "      <td>dailymail.co.uk</td>\n",
       "      <td>did miley cyrus and liam hemsworth secretly ge...</td>\n",
       "      <td>0</td>\n",
       "    </tr>\n",
       "    <tr>\n",
       "      <th>1</th>\n",
       "      <td>hollywoodlife.com</td>\n",
       "      <td>paris jackson cara delevingne enjoy night out ...</td>\n",
       "      <td>0</td>\n",
       "    </tr>\n",
       "    <tr>\n",
       "      <th>2</th>\n",
       "      <td>variety.com</td>\n",
       "      <td>celebrities join tax march in protest of donal...</td>\n",
       "      <td>0</td>\n",
       "    </tr>\n",
       "    <tr>\n",
       "      <th>3</th>\n",
       "      <td>dailymail.co.uk</td>\n",
       "      <td>cindy crawford s daughter kaia gerber wears a ...</td>\n",
       "      <td>0</td>\n",
       "    </tr>\n",
       "    <tr>\n",
       "      <th>4</th>\n",
       "      <td>variety.com</td>\n",
       "      <td>full list of oscar nominations variety</td>\n",
       "      <td>0</td>\n",
       "    </tr>\n",
       "  </tbody>\n",
       "</table>\n",
       "</div>"
      ],
      "text/plain": [
       "            news_url                                              title  label\n",
       "0    dailymail.co.uk  did miley cyrus and liam hemsworth secretly ge...      0\n",
       "1  hollywoodlife.com  paris jackson cara delevingne enjoy night out ...      0\n",
       "2        variety.com  celebrities join tax march in protest of donal...      0\n",
       "3    dailymail.co.uk  cindy crawford s daughter kaia gerber wears a ...      0\n",
       "4        variety.com             full list of oscar nominations variety      0"
      ]
     },
     "execution_count": 6,
     "metadata": {},
     "output_type": "execute_result"
    }
   ],
   "source": [
    "posts = posts.drop([\"Unnamed: 0\"],axis=1)\n",
    "posts.head()"
   ]
  },
  {
   "cell_type": "code",
   "execution_count": 7,
   "metadata": {},
   "outputs": [
    {
     "name": "stdout",
     "output_type": "stream",
     "text": [
      "<class 'pandas.core.frame.DataFrame'>\n",
      "Int64Index: 22140 entries, 0 to 16816\n",
      "Data columns (total 3 columns):\n",
      "news_url    21871 non-null object\n",
      "title       22140 non-null object\n",
      "label       22140 non-null int64\n",
      "dtypes: int64(1), object(2)\n",
      "memory usage: 691.9+ KB\n"
     ]
    }
   ],
   "source": [
    "posts.info()"
   ]
  },
  {
   "cell_type": "code",
   "execution_count": 8,
   "metadata": {},
   "outputs": [],
   "source": [
    "posts = posts.fillna(\"unknown\")"
   ]
  },
  {
   "cell_type": "code",
   "execution_count": 9,
   "metadata": {},
   "outputs": [
    {
     "name": "stdout",
     "output_type": "stream",
     "text": [
      "<class 'pandas.core.frame.DataFrame'>\n",
      "Int64Index: 22140 entries, 0 to 16816\n",
      "Data columns (total 3 columns):\n",
      "news_url    22140 non-null object\n",
      "title       22140 non-null object\n",
      "label       22140 non-null int64\n",
      "dtypes: int64(1), object(2)\n",
      "memory usage: 691.9+ KB\n"
     ]
    }
   ],
   "source": [
    "posts.info()"
   ]
  },
  {
   "cell_type": "code",
   "execution_count": 11,
   "metadata": {},
   "outputs": [],
   "source": [
    "posts['merged']= posts.news_url + \" \" + posts.title"
   ]
  },
  {
   "cell_type": "code",
   "execution_count": 70,
   "metadata": {},
   "outputs": [],
   "source": [
    "posts = posts.sample(frac=1)"
   ]
  },
  {
   "cell_type": "markdown",
   "metadata": {},
   "source": [
    "### Generating completing posts datset"
   ]
  },
  {
   "cell_type": "code",
   "execution_count": 68,
   "metadata": {},
   "outputs": [],
   "source": [
    "posts.to_csv(\"fake_real_dataset.csv\")"
   ]
  },
  {
   "cell_type": "markdown",
   "metadata": {},
   "source": [
    "# Vectorizing the words"
   ]
  },
  {
   "cell_type": "code",
   "execution_count": 12,
   "metadata": {},
   "outputs": [],
   "source": [
    "word_vectorizer = TfidfVectorizer(\n",
    "    sublinear_tf=True,\n",
    "    strip_accents='unicode',\n",
    "    analyzer='word',\n",
    "    token_pattern=r'\\w{1,}',\n",
    "    stop_words='english',\n",
    "    ngram_range=(1, 1),\n",
    "    max_features=10000)\n",
    "word_vectorizer.fit(posts.merged)\n",
    "train_word_features = word_vectorizer.transform(posts.merged)"
   ]
  },
  {
   "cell_type": "code",
   "execution_count": 13,
   "metadata": {},
   "outputs": [],
   "source": [
    "char_vectorizer = TfidfVectorizer(\n",
    "    sublinear_tf=True,\n",
    "    strip_accents='unicode',\n",
    "    analyzer='char',\n",
    "    stop_words='english',\n",
    "    ngram_range=(2, 6),\n",
    "    max_features=10000)\n",
    "char_vectorizer.fit(posts.merged)\n",
    "train_char_features = char_vectorizer.transform(posts.merged)"
   ]
  },
  {
   "cell_type": "code",
   "execution_count": 19,
   "metadata": {},
   "outputs": [],
   "source": [
    "#making sparce features for better prediction\n",
    "y = posts.label\n",
    "train_features = hstack([train_char_features, train_word_features])"
   ]
  },
  {
   "cell_type": "markdown",
   "metadata": {},
   "source": [
    "### Splitting the data into train and test set"
   ]
  },
  {
   "cell_type": "code",
   "execution_count": 21,
   "metadata": {},
   "outputs": [],
   "source": [
    "X_train, X_test, y_train, y_test = train_test_split(train_features,y,test_size=0.20,random_state=42)"
   ]
  },
  {
   "cell_type": "markdown",
   "metadata": {},
   "source": [
    "# Applying Machine Learning"
   ]
  },
  {
   "cell_type": "markdown",
   "metadata": {},
   "source": [
    "## Applying Random Forest Algorithm"
   ]
  },
  {
   "cell_type": "code",
   "execution_count": 48,
   "metadata": {},
   "outputs": [
    {
     "name": "stdout",
     "output_type": "stream",
     "text": [
      "0.8622402890695574\n"
     ]
    }
   ],
   "source": [
    "classifier = RandomForestClassifier(n_estimators=100)\n",
    "classifier.fit(X_train,y_train)\n",
    "preds=classifier.predict(X_test)\n"
   ]
  },
  {
   "cell_type": "code",
   "execution_count": 51,
   "metadata": {},
   "outputs": [
    {
     "name": "stdout",
     "output_type": "stream",
     "text": [
      "0.8622402890695574\n"
     ]
    }
   ],
   "source": [
    "print(accuracy_score(y_test,preds))"
   ]
  },
  {
   "cell_type": "markdown",
   "metadata": {},
   "source": [
    "## Applying Logistic Regression Alogrithm"
   ]
  },
  {
   "cell_type": "code",
   "execution_count": 53,
   "metadata": {},
   "outputs": [
    {
     "name": "stderr",
     "output_type": "stream",
     "text": [
      "c:\\users\\anubh\\appdata\\local\\programs\\python\\python36\\lib\\site-packages\\sklearn\\linear_model\\logistic.py:433: FutureWarning: Default solver will be changed to 'lbfgs' in 0.22. Specify a solver to silence this warning.\n",
      "  FutureWarning)\n"
     ]
    }
   ],
   "source": [
    "classifier = LogisticRegression()\n",
    "classifier.fit(X_train,y_train)\n",
    "preds=classifier.predict(X_test)"
   ]
  },
  {
   "cell_type": "code",
   "execution_count": 54,
   "metadata": {},
   "outputs": [
    {
     "name": "stdout",
     "output_type": "stream",
     "text": [
      "0.8832429990966576\n"
     ]
    }
   ],
   "source": [
    "print(accuracy_score(y_test,preds))"
   ]
  },
  {
   "cell_type": "markdown",
   "metadata": {},
   "source": [
    "## Applying XGBoost Algorithm"
   ]
  },
  {
   "cell_type": "code",
   "execution_count": 45,
   "metadata": {},
   "outputs": [
    {
     "name": "stdout",
     "output_type": "stream",
     "text": [
      "0.8468834688346883\n"
     ]
    }
   ],
   "source": [
    "xgb=XGBClassifier()\n",
    "xgb.fit(X_train,y_train)\n",
    "preds2=xgb.predict(X_test)\n"
   ]
  },
  {
   "cell_type": "code",
   "execution_count": 50,
   "metadata": {},
   "outputs": [
    {
     "name": "stdout",
     "output_type": "stream",
     "text": [
      "0.8468834688346883\n"
     ]
    }
   ],
   "source": [
    "print(accuracy_score(y_test,preds2))"
   ]
  },
  {
   "cell_type": "markdown",
   "metadata": {},
   "source": [
    "## Applying LightGBM Algorithm"
   ]
  },
  {
   "cell_type": "code",
   "execution_count": 41,
   "metadata": {},
   "outputs": [],
   "source": [
    "params = {\n",
    "          \"objective\" : \"binary\",\n",
    "          \"num_leaves\" : 60,\n",
    "          \"max_depth\": 10,\n",
    "          \"learning_rate\" : 0.01,\n",
    "          \"bagging_fraction\" : 0.9,  # subsample\n",
    "          \"feature_fraction\" : 0.9,  # colsample_bytree\n",
    "          \"bagging_freq\" : 5,        # subsample_freq\n",
    "          \"bagging_seed\" : 2018,\n",
    "          \"verbosity\" : -1 }\n",
    "train_data=lgb.Dataset(X_train,label=y_train)\n",
    "lgbm=lgb.train(params, train_data,50)\n",
    "preds=lgbm.predict(X_test)\n"
   ]
  },
  {
   "cell_type": "code",
   "execution_count": 49,
   "metadata": {},
   "outputs": [
    {
     "name": "stdout",
     "output_type": "stream",
     "text": [
      "0.8622402890695574\n"
     ]
    }
   ],
   "source": [
    "y_pred = []\n",
    "for ii in range(len(preds)):\n",
    "    if(preds[ii]>0.5):\n",
    "        y_pred.append(1)\n",
    "    else:\n",
    "        y_pred.append(0)\n",
    "print(accuracy_score(y_test,y_pred))"
   ]
  },
  {
   "cell_type": "markdown",
   "metadata": {},
   "source": [
    "## Applying Ensamble of Machine Learning Algorithms"
   ]
  },
  {
   "cell_type": "code",
   "execution_count": 57,
   "metadata": {},
   "outputs": [
    {
     "name": "stdout",
     "output_type": "stream",
     "text": [
      "0.8775971093044264\n"
     ]
    }
   ],
   "source": [
    "def predict_one(x, y, xt):\n",
    "    clf1 = LogisticRegression()\n",
    "    clf2 = RandomForestClassifier(n_estimators=100)\n",
    "    c = VotingClassifier(estimators=[('lr', clf1), ('rf', clf2)],voting='soft')\n",
    "    c.fit(x, y)\n",
    "    y_pred = c.predict(xt)\n",
    "    return y_pred\n",
    "uu = predict_one(X_train,y_train,X_test)\n",
    "print(accuracy_score(y_test,uu))"
   ]
  },
  {
   "cell_type": "markdown",
   "metadata": {},
   "source": [
    "# Applying Deep Learning"
   ]
  },
  {
   "cell_type": "code",
   "execution_count": 58,
   "metadata": {},
   "outputs": [],
   "source": [
    "num_labels = 8\n",
    "vocab_size = 5000\n",
    "batch_size = 64"
   ]
  },
  {
   "cell_type": "code",
   "execution_count": 59,
   "metadata": {},
   "outputs": [],
   "source": [
    "train_X = posts.news_url+\" \"+posts.title\n",
    "train_X = train_X.values\n",
    "y = posts.label"
   ]
  },
  {
   "cell_type": "code",
   "execution_count": 60,
   "metadata": {},
   "outputs": [],
   "source": [
    "seq = train_X"
   ]
  },
  {
   "cell_type": "code",
   "execution_count": 61,
   "metadata": {},
   "outputs": [],
   "source": [
    "tokn = Tokenizer(num_words=vocab_size)\n",
    "tokn.fit_on_texts(seq)"
   ]
  },
  {
   "cell_type": "code",
   "execution_count": 62,
   "metadata": {},
   "outputs": [
    {
     "name": "stdout",
     "output_type": "stream",
     "text": [
      "[24, 15, 16, 145, 286, 245, 4, 339, 500, 889, 104, 188]\n",
      "[  0   0   0   0   0   0   0   0  24  15  16 145 286 245   4 339 500 889\n",
      " 104 188]\n",
      "(22140, 20)\n"
     ]
    }
   ],
   "source": [
    "max_len = 20\n",
    "cnn_texts_seq = tokn.texts_to_sequences(train_X)\n",
    "print(cnn_texts_seq[0])\n",
    "cnn_texts_mat = sequence.pad_sequences(cnn_texts_seq,maxlen=max_len)\n",
    "print(cnn_texts_mat[0])\n",
    "print(cnn_texts_mat.shape)"
   ]
  },
  {
   "cell_type": "markdown",
   "metadata": {},
   "source": [
    "### Conv1d Neural Network"
   ]
  },
  {
   "cell_type": "code",
   "execution_count": 67,
   "metadata": {},
   "outputs": [
    {
     "name": "stdout",
     "output_type": "stream",
     "text": [
      "_________________________________________________________________\n",
      "Layer (type)                 Output Shape              Param #   \n",
      "=================================================================\n",
      "embedding_4 (Embedding)      (None, 20, 50)            250000    \n",
      "_________________________________________________________________\n",
      "dropout_9 (Dropout)          (None, 20, 50)            0         \n",
      "_________________________________________________________________\n",
      "conv1d_6 (Conv1D)            (None, 18, 256)           38656     \n",
      "_________________________________________________________________\n",
      "global_max_pooling1d_4 (Glob (None, 256)               0         \n",
      "_________________________________________________________________\n",
      "dense_9 (Dense)              (None, 128)               32896     \n",
      "_________________________________________________________________\n",
      "dropout_10 (Dropout)         (None, 128)               0         \n",
      "_________________________________________________________________\n",
      "activation_9 (Activation)    (None, 128)               0         \n",
      "_________________________________________________________________\n",
      "dense_10 (Dense)             (None, 1)                 129       \n",
      "_________________________________________________________________\n",
      "activation_10 (Activation)   (None, 1)                 0         \n",
      "=================================================================\n",
      "Total params: 321,681\n",
      "Trainable params: 321,681\n",
      "Non-trainable params: 0\n",
      "_________________________________________________________________\n",
      "Train on 17712 samples, validate on 4428 samples\n",
      "Epoch 1/20\n",
      "17712/17712 [==============================] - 6s 328us/step - loss: 0.4335 - acc: 0.8061 - val_loss: 0.1555 - val_acc: 0.9607\n",
      "Epoch 2/20\n",
      "17712/17712 [==============================] - 6s 321us/step - loss: 0.2873 - acc: 0.8808 - val_loss: 0.2572 - val_acc: 0.9027\n",
      "Epoch 3/20\n",
      "17712/17712 [==============================] - 5s 307us/step - loss: 0.2284 - acc: 0.9088 - val_loss: 0.1938 - val_acc: 0.9201\n",
      "Epoch 4/20\n",
      "17712/17712 [==============================] - 5s 302us/step - loss: 0.1763 - acc: 0.9322 - val_loss: 0.2783 - val_acc: 0.8710\n",
      "Epoch 5/20\n",
      "17712/17712 [==============================] - 5s 304us/step - loss: 0.1316 - acc: 0.9508 - val_loss: 0.2092 - val_acc: 0.9124\n",
      "Epoch 6/20\n",
      "17712/17712 [==============================] - 6s 325us/step - loss: 0.0974 - acc: 0.9649 - val_loss: 0.3105 - val_acc: 0.8758\n",
      "Epoch 7/20\n",
      "17712/17712 [==============================] - 6s 345us/step - loss: 0.0744 - acc: 0.9724 - val_loss: 0.3433 - val_acc: 0.8855\n",
      "Epoch 8/20\n",
      "17712/17712 [==============================] - 6s 343us/step - loss: 0.0616 - acc: 0.9780 - val_loss: 0.5304 - val_acc: 0.8259\n",
      "Epoch 9/20\n",
      "17712/17712 [==============================] - 6s 348us/step - loss: 0.0552 - acc: 0.9783 - val_loss: 0.3828 - val_acc: 0.8866\n",
      "Epoch 10/20\n",
      "17712/17712 [==============================] - 6s 342us/step - loss: 0.0475 - acc: 0.9811 - val_loss: 0.4701 - val_acc: 0.8805\n",
      "Epoch 11/20\n",
      "17712/17712 [==============================] - 6s 361us/step - loss: 0.0422 - acc: 0.9841 - val_loss: 0.6084 - val_acc: 0.8607\n",
      "Epoch 12/20\n",
      "17712/17712 [==============================] - 6s 359us/step - loss: 0.0385 - acc: 0.9844 - val_loss: 0.6752 - val_acc: 0.8286\n",
      "Epoch 13/20\n",
      "17712/17712 [==============================] - 6s 356us/step - loss: 0.0352 - acc: 0.9861 - val_loss: 0.5084 - val_acc: 0.8771\n",
      "Epoch 14/20\n",
      "17712/17712 [==============================] - 6s 359us/step - loss: 0.0335 - acc: 0.9853 - val_loss: 0.6960 - val_acc: 0.8591\n",
      "Epoch 15/20\n",
      "17712/17712 [==============================] - 6s 332us/step - loss: 0.0278 - acc: 0.9876 - val_loss: 0.5697 - val_acc: 0.8862\n",
      "Epoch 16/20\n",
      "17712/17712 [==============================] - 6s 348us/step - loss: 0.0293 - acc: 0.9871 - val_loss: 0.7881 - val_acc: 0.8629\n",
      "Epoch 17/20\n",
      "17712/17712 [==============================] - 6s 351us/step - loss: 0.0300 - acc: 0.9870 - val_loss: 0.5977 - val_acc: 0.8839\n",
      "Epoch 18/20\n",
      "17712/17712 [==============================] - 7s 374us/step - loss: 0.0291 - acc: 0.9875 - val_loss: 0.8281 - val_acc: 0.8640\n",
      "Epoch 19/20\n",
      "17712/17712 [==============================] - 7s 397us/step - loss: 0.0235 - acc: 0.9881 - val_loss: 0.8223 - val_acc: 0.8686\n",
      "Epoch 20/20\n",
      "17712/17712 [==============================] - 7s 422us/step - loss: 0.0252 - acc: 0.9880 - val_loss: 0.7023 - val_acc: 0.8613\n"
     ]
    }
   ],
   "source": [
    "def cnn_model():\n",
    "    model = Sequential()\n",
    "    model.add(Embedding(5000,50,input_length=max_len))\n",
    "    model.add(Dropout(0.2))\n",
    "    model.add(Conv1D(256,3,padding='valid',activation='relu',strides=1))\n",
    "    #model.add(Conv1D(128,3,padding='valid',activation='relu',strides=1))\n",
    "    model.add(GlobalMaxPooling1D())\n",
    "    model.add(Dense(128))\n",
    "    model.add(Dropout(0.5))\n",
    "    model.add(Activation('relu'))\n",
    "    #model.add(Dense(64))\n",
    "    #model.add(Dropout(0.5))\n",
    "    #model.add(Activation('relu'))\n",
    "    model.add(Dense(1))\n",
    "    model.add(Activation('sigmoid'))\n",
    "    model.summary()\n",
    "    model.compile(loss='binary_crossentropy',\n",
    "                  optimizer='adam',\n",
    "                  metrics=['accuracy'])\n",
    "    return model\n",
    "\n",
    "def check_model(model,x,y):\n",
    "    #es = EarlyStopping(monitor='val_loss', mode='min', verbose=1,restore_best_weights=True,patience=10)\n",
    "    model.fit(x,y,batch_size=32,epochs=20,verbose=1,validation_split=0.2)\n",
    "\n",
    "\n",
    "m = cnn_model()\n",
    "check_model(m,cnn_texts_mat,y)"
   ]
  },
  {
   "cell_type": "markdown",
   "metadata": {},
   "source": [
    "### MLP Netork"
   ]
  },
  {
   "cell_type": "code",
   "execution_count": null,
   "metadata": {},
   "outputs": [],
   "source": []
  },
  {
   "cell_type": "markdown",
   "metadata": {},
   "source": [
    "### LSTM Network"
   ]
  },
  {
   "cell_type": "markdown",
   "metadata": {},
   "source": [
    "### RNN Network"
   ]
  },
  {
   "cell_type": "markdown",
   "metadata": {},
   "source": [
    "### GRU Network"
   ]
  },
  {
   "cell_type": "markdown",
   "metadata": {},
   "source": [
    "### Other Sequential Counter Parts"
   ]
  },
  {
   "cell_type": "code",
   "execution_count": null,
   "metadata": {},
   "outputs": [],
   "source": []
  }
 ],
 "metadata": {
  "kernelspec": {
   "display_name": "Python 3",
   "language": "python",
   "name": "python3"
  },
  "language_info": {
   "codemirror_mode": {
    "name": "ipython",
    "version": 3
   },
   "file_extension": ".py",
   "mimetype": "text/x-python",
   "name": "python",
   "nbconvert_exporter": "python",
   "pygments_lexer": "ipython3",
   "version": "3.6.8"
  }
 },
 "nbformat": 4,
 "nbformat_minor": 2
}
