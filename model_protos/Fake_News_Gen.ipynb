{
 "cells": [
  {
   "cell_type": "markdown",
   "metadata": {},
   "source": [
    "# Data Generation Using Gans"
   ]
  },
  {
   "cell_type": "code",
   "execution_count": 2,
   "metadata": {},
   "outputs": [],
   "source": [
    "import torch\n",
    "from torch import nn,optim\n",
    "from torch.autograd.variable import Variable\n",
    "from torchvision import transforms, datasets"
   ]
  },
  {
   "cell_type": "code",
   "execution_count": 3,
   "metadata": {},
   "outputs": [],
   "source": [
    "#using gans to generate fake news"
   ]
  },
  {
   "cell_type": "markdown",
   "metadata": {},
   "source": [
    "## Sample Generator and Discriminator Class"
   ]
  },
  {
   "cell_type": "code",
   "execution_count": 4,
   "metadata": {},
   "outputs": [
    {
     "name": "stdout",
     "output_type": "stream",
     "text": [
      "Discriminator(\n",
      "  (fc1): Linear(in_features=20, out_features=60, bias=True)\n",
      "  (fc2): Linear(in_features=60, out_features=10, bias=True)\n",
      "  (dropout): Dropout(p=0.3)\n",
      ")\n"
     ]
    }
   ],
   "source": [
    "#discriminator network to be a normal linear classifier \n",
    "class Discriminator(nn.Module):\n",
    "    def __init__(self,input_size,hidden_dim,output_size):\n",
    "        super(Discriminator,self).__init__()\n",
    "        \n",
    "        #defining the hidden layer\n",
    "        self.fc1 = nn.Linear(input_size,hidden_dim*3)\n",
    "        #defining the output layer\n",
    "        self.fc2 = nn.Linear(hidden_dim*3,output_size)\n",
    "        #dropout layer\n",
    "        self.dropout = nn.Dropout(0.3)\n",
    "    \n",
    "    def forward(self,x):\n",
    "        x = F.leaky_relu(self.fc1(x),0.2)#negative slope of 0.2\n",
    "        x = self.dropout(x)\n",
    "        out = self.fc2(x)\n",
    "        #x2 = self.fc2(x)\n",
    "        return out\n",
    "#num_classes = 10\n",
    "Disc = Discriminator(20,20,10)\n",
    "print(Disc)"
   ]
  },
  {
   "cell_type": "code",
   "execution_count": 5,
   "metadata": {},
   "outputs": [
    {
     "name": "stdout",
     "output_type": "stream",
     "text": [
      "Generator(\n",
      "  (fc1): Linear(in_features=20, out_features=60, bias=True)\n",
      "  (fc2): Linear(in_features=60, out_features=10, bias=True)\n",
      "  (dropout): Dropout(p=0.3)\n",
      ")\n"
     ]
    }
   ],
   "source": [
    "class Generator(nn.Module):\n",
    "    \n",
    "    def __init__(self,input_size,hidden_dim,output_size):\n",
    "        super(Generator,self).__init__()\n",
    "        #defining the hidden units\n",
    "        self.fc1 = nn.Linear(input_size,hidden_dim*3)\n",
    "        self.fc2 = nn.Linear(hidden_dim*3,output_size)\n",
    "        #dropout layer\n",
    "        self.dropout = nn.Dropout(0.3)\n",
    "        \n",
    "    def forward(self,x):\n",
    "        x = F.leaky_relu(self.fc1(x),0.2)\n",
    "        x = self.dropout(x)\n",
    "        #x1 = self.fc2(x) \n",
    "        #x2 = self.fc2(x)\n",
    "        out = torch.sigmoid(self.fc2(x))\n",
    "        return out\n",
    "\n",
    "Gen = Generator(20,20,10)\n",
    "print(Gen)"
   ]
  },
  {
   "cell_type": "code",
   "execution_count": null,
   "metadata": {},
   "outputs": [],
   "source": []
  }
 ],
 "metadata": {
  "kernelspec": {
   "display_name": "Python 3",
   "language": "python",
   "name": "python3"
  },
  "language_info": {
   "codemirror_mode": {
    "name": "ipython",
    "version": 3
   },
   "file_extension": ".py",
   "mimetype": "text/x-python",
   "name": "python",
   "nbconvert_exporter": "python",
   "pygments_lexer": "ipython3",
   "version": "3.6.8"
  }
 },
 "nbformat": 4,
 "nbformat_minor": 2
}
